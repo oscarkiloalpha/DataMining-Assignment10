{
 "cells": [
  {
   "cell_type": "code",
   "execution_count": 1,
   "id": "2d4a005a",
   "metadata": {},
   "outputs": [],
   "source": [
    "import numpy as np\n",
    "from matplotlib import pyplot as plt\n",
    "from matplotlib.pyplot import cm\n",
    "import time\n",
    "import itertools"
   ]
  },
  {
   "cell_type": "code",
   "execution_count": 2,
   "id": "48ae1019",
   "metadata": {},
   "outputs": [
    {
     "ename": "NameError",
     "evalue": "name 'datasetPath' is not defined",
     "output_type": "error",
     "traceback": [
      "\u001b[1;31m---------------------------------------------------------------------------\u001b[0m",
      "\u001b[1;31mNameError\u001b[0m                                 Traceback (most recent call last)",
      "Input \u001b[1;32mIn [2]\u001b[0m, in \u001b[0;36m<cell line: 2>\u001b[1;34m()\u001b[0m\n\u001b[0;32m      1\u001b[0m datasetPath : \u001b[38;5;124m\"\u001b[39m\u001b[38;5;124mG:\u001b[39m\u001b[38;5;124m\\\u001b[39m\u001b[38;5;124mKuliah\u001b[39m\u001b[38;5;124m\\\u001b[39m\u001b[38;5;124mSemester 4\u001b[39m\u001b[38;5;124m\\\u001b[39m\u001b[38;5;124mData Mining\u001b[39m\u001b[38;5;130;01m\\10\u001b[39;00m\u001b[38;5;124m\\\u001b[39m\u001b[38;5;124mTugas10\u001b[39m\u001b[38;5;124m\\\u001b[39m\u001b[38;5;124mdataku.txt\u001b[39m\u001b[38;5;124m\"\u001b[39m\n\u001b[1;32m----> 2\u001b[0m dataset \u001b[38;5;241m=\u001b[39m np\u001b[38;5;241m.\u001b[39mloadtxt(\u001b[43mdatasetPath\u001b[49m, delimiter\u001b[38;5;241m=\u001b[39m\u001b[38;5;124m\"\u001b[39m\u001b[38;5;124m \u001b[39m\u001b[38;5;124m\"\u001b[39m)\n",
      "\u001b[1;31mNameError\u001b[0m: name 'datasetPath' is not defined"
     ]
    }
   ],
   "source": [
    "datasetPath : \"dataku.txt\"\n",
    "dataset = np.loadtxt(datasetPath, delimiter=\" \")"
   ]
  },
  {
   "cell_type": "code",
   "execution_count": 4,
   "id": "289340f6",
   "metadata": {},
   "outputs": [
    {
     "ename": "NameError",
     "evalue": "name 'dataset' is not defined",
     "output_type": "error",
     "traceback": [
      "\u001b[1;31m---------------------------------------------------------------------------\u001b[0m",
      "\u001b[1;31mNameError\u001b[0m                                 Traceback (most recent call last)",
      "Input \u001b[1;32mIn [4]\u001b[0m, in \u001b[0;36m<cell line: 3>\u001b[1;34m()\u001b[0m\n\u001b[0;32m      1\u001b[0m k \u001b[38;5;241m=\u001b[39m \u001b[38;5;241m2\u001b[39m\n\u001b[0;32m      2\u001b[0m iterationCounter \u001b[38;5;241m=\u001b[39m \u001b[38;5;241m0\u001b[39m\n\u001b[1;32m----> 3\u001b[0m \u001b[38;5;28minput\u001b[39m \u001b[38;5;241m=\u001b[39m \u001b[43mdataset\u001b[49m\n",
      "\u001b[1;31mNameError\u001b[0m: name 'dataset' is not defined"
     ]
    }
   ],
   "source": [
    "k = 2\n",
    "iterationCounter = 0\n",
    "input = dataset"
   ]
  },
  {
   "cell_type": "code",
   "execution_count": 5,
   "id": "4fe4a007",
   "metadata": {},
   "outputs": [],
   "source": [
    "def initCentroid(dataIn, k):\n",
    "    result = dataIn[np.random.coice(dataIn.shape[0], k, replace = False)]\n",
    "    return result"
   ]
  },
  {
   "cell_type": "code",
   "execution_count": 6,
   "id": "e96d0cdf",
   "metadata": {},
   "outputs": [
    {
     "ename": "NameError",
     "evalue": "name 'n' is not defined",
     "output_type": "error",
     "traceback": [
      "\u001b[1;31m---------------------------------------------------------------------------\u001b[0m",
      "\u001b[1;31mNameError\u001b[0m                                 Traceback (most recent call last)",
      "Input \u001b[1;32mIn [6]\u001b[0m, in \u001b[0;36m<cell line: 8>\u001b[1;34m()\u001b[0m\n\u001b[0;32m      6\u001b[0m     plt\u001b[38;5;241m.\u001b[39mtitle(\u001b[38;5;124m\"\u001b[39m\u001b[38;5;124miteration-\u001b[39m\u001b[38;5;124m\"\u001b[39m \u001b[38;5;241m+\u001b[39m iteration)\n\u001b[0;32m      7\u001b[0m     marker \u001b[38;5;241m=\u001b[39m itertools\u001b[38;5;241m.\u001b[39mcycle((\u001b[38;5;124m'\u001b[39m\u001b[38;5;124m.\u001b[39m\u001b[38;5;124m'\u001b[39m, \u001b[38;5;124m'\u001b[39m\u001b[38;5;124m*\u001b[39m\u001b[38;5;124m'\u001b[39m, \u001b[38;5;124m'\u001b[39m\u001b[38;5;124m^\u001b[39m\u001b[38;5;124m'\u001b[39m, \u001b[38;5;124m'\u001b[39m\u001b[38;5;124mx\u001b[39m\u001b[38;5;124m'\u001b[39m, \u001b[38;5;124m'\u001b[39m\u001b[38;5;124m+\u001b[39m\u001b[38;5;124m'\u001b[39m))\n\u001b[1;32m----> 8\u001b[0m \u001b[38;5;28;01mfor\u001b[39;00m i \u001b[38;5;129;01min\u001b[39;00m \u001b[38;5;28mrange\u001b[39m(\u001b[43mn\u001b[49m):\n\u001b[0;32m      9\u001b[0m     col \u001b[38;5;241m=\u001b[39m \u001b[38;5;28mnext\u001b[39m(color)\n\u001b[0;32m     10\u001b[0m     memberCluster \u001b[38;5;241m=\u001b[39m np\u001b[38;5;241m.\u001b[39masmatrix(listClusterMember[i])\n",
      "\u001b[1;31mNameError\u001b[0m: name 'n' is not defined"
     ]
    }
   ],
   "source": [
    "def plotClusterResult(listClusterMember, centroid, iteration, coveraged):\n",
    "    n = listClusterMembers.__len__()\n",
    "    color = iter(cm.rainbow(np.linspace(0,1,n)))\n",
    "    plt.figure(\"result\")\n",
    "    plt.clf()\n",
    "    plt.title(\"iteration-\" + iteration)\n",
    "    marker = itertools.cycle(('.', '*', '^', 'x', '+'))\n",
    "for i in range(n):\n",
    "    col = next(color)\n",
    "    memberCluster = np.asmatrix(listClusterMember[i])\n",
    "    plt.scatter(np.ravel(memberCluster9[:, 0]), np.ravel(memberCluster[:, 1]),\n",
    "               marker = marker.__next__(), s = 100, c = col, label = \"klaster-\"+str(i+1))\n",
    "    \n",
    "for i in range(n):\n",
    "    plt.scatter((centroid[i, 0]), (centroid[i, 1]), marker = marker.__next__(),\n",
    "               c = col, label = \"centroid-\"+str(i+1))\n",
    "\n",
    "if(coverged == 0):\n",
    "    plt.legend()\n",
    "    plt.ion()\n",
    "    plt.show()\n",
    "    plt.pause(0.1)\n",
    "    \n",
    "if(coverged == 1):\n",
    "    plt.legend()\n",
    "    plt.show(block=True)"
   ]
  },
  {
   "cell_type": "code",
   "execution_count": 8,
   "id": "be4aa490",
   "metadata": {},
   "outputs": [],
   "source": [
    "def Kmeans(data, centroidInit):\n",
    "    nCluster = k\n",
    "    global iterationCounter\n",
    "    centroidInit = np.matrix(centroidInit)\n",
    "    \n",
    "    while(True):\n",
    "        iterationCounter +=1\n",
    "        euclideanMatrixAllCluster = np.ndarray(shape=(data.shape[0], 0))\n",
    "        \n",
    "        for i in range (0, nCluster):\n",
    "            centroidRepeated = np.repeat(centroidInit[i,:], data.shape[0], axis=0)\n",
    "            deltaMatrix = abs(np.substract(data,centroidRepeated))\n",
    "            euclideanMatrix = np.sqrt(np.square(deltaMatrix).sum(axis=1))\n",
    "            euclideanMatrix = \\\n",
    "                np.concatenate((euclideanMatrixAllCluster, euclideanMatrix), axis = 1)\n",
    "        clusterMatrix = np.ravel(np.argmin(np.matrix(np.euclideanMatrixAllCluster), axis = 1))\n",
    "        listClusterMember = [[] for i in range(k)]\n",
    "        for i in range(0, data.shape[0]):\n",
    "            listClusterMember[np.asscalar(clusterMatrix[i])].append(data[i,:])\n",
    "            \n",
    "        newCentroid = np.ndarray(shape =(0, centroidInit.shape[1]))\n",
    "        for i in range(0, nCluster):\n",
    "            memberCluster = np.asmatrix(listClusterMember[i])\n",
    "            centroidCluster = memberCluster.mean(axis=0)\n",
    "            newCentroid = np.concatenate((newCentroid, centroidCluster), axis = 0)\n",
    "        print(\"iter: \", iterationCounter)\n",
    "        print(\"centroid: \", newCentroid)\n",
    "        \n",
    "        if((centroidInit == newCentroid).all()):\n",
    "            break\n",
    "        centroidInit = newCentroid\n",
    "        plotClusterResult(listClusterMember, centroidInit, str(iterationCounter), 0)\n",
    "        time.sleep()\n",
    "    return listClusterMember, centroidInit"
   ]
  },
  {
   "cell_type": "code",
   "execution_count": 9,
   "id": "6a7eebf0",
   "metadata": {},
   "outputs": [
    {
     "ename": "AttributeError",
     "evalue": "module 'numpy.random' has no attribute 'coice'",
     "output_type": "error",
     "traceback": [
      "\u001b[1;31m---------------------------------------------------------------------------\u001b[0m",
      "\u001b[1;31mAttributeError\u001b[0m                            Traceback (most recent call last)",
      "Input \u001b[1;32mIn [9]\u001b[0m, in \u001b[0;36m<cell line: 1>\u001b[1;34m()\u001b[0m\n\u001b[1;32m----> 1\u001b[0m centroidInit \u001b[38;5;241m=\u001b[39m \u001b[43minitCentroid\u001b[49m\u001b[43m(\u001b[49m\u001b[38;5;28;43minput\u001b[39;49m\u001b[43m,\u001b[49m\u001b[43m \u001b[49m\u001b[43mk\u001b[49m\u001b[43m)\u001b[49m\n\u001b[0;32m      2\u001b[0m clusterResults, centroid \u001b[38;5;241m=\u001b[39m kMeans(\u001b[38;5;28minput\u001b[39m, centroidInit)\n\u001b[0;32m      3\u001b[0m plotClusterResult(clusterResults, centroid, \u001b[38;5;28mstr\u001b[39m(iterationCounter) \u001b[38;5;241m+\u001b[39m \u001b[38;5;124m\"\u001b[39m\u001b[38;5;124m (coverged), 1\u001b[39m\u001b[38;5;124m\"\u001b[39m)\n",
      "Input \u001b[1;32mIn [5]\u001b[0m, in \u001b[0;36minitCentroid\u001b[1;34m(dataIn, k)\u001b[0m\n\u001b[0;32m      1\u001b[0m \u001b[38;5;28;01mdef\u001b[39;00m \u001b[38;5;21minitCentroid\u001b[39m(dataIn, k):\n\u001b[1;32m----> 2\u001b[0m     result \u001b[38;5;241m=\u001b[39m dataIn[\u001b[43mnp\u001b[49m\u001b[38;5;241;43m.\u001b[39;49m\u001b[43mrandom\u001b[49m\u001b[38;5;241;43m.\u001b[39;49m\u001b[43mcoice\u001b[49m(dataIn\u001b[38;5;241m.\u001b[39mshape[\u001b[38;5;241m0\u001b[39m], k, replace \u001b[38;5;241m=\u001b[39m \u001b[38;5;28;01mFalse\u001b[39;00m)]\n\u001b[0;32m      3\u001b[0m     \u001b[38;5;28;01mreturn\u001b[39;00m result\n",
      "\u001b[1;31mAttributeError\u001b[0m: module 'numpy.random' has no attribute 'coice'"
     ]
    }
   ],
   "source": [
    "centroidInit = initCentroid(input, k)\n",
    "clusterResults, centroid = kMeans(input, centroidInit)\n",
    "plotClusterResult(clusterResults, centroid, str(iterationCounter) + \" (coverged), 1\")"
   ]
  },
  {
   "cell_type": "code",
   "execution_count": null,
   "id": "4a7eb810",
   "metadata": {},
   "outputs": [],
   "source": []
  }
 ],
 "metadata": {
  "kernelspec": {
   "display_name": "Python 3 (ipykernel)",
   "language": "python",
   "name": "python3"
  },
  "language_info": {
   "codemirror_mode": {
    "name": "ipython",
    "version": 3
   },
   "file_extension": ".py",
   "mimetype": "text/x-python",
   "name": "python",
   "nbconvert_exporter": "python",
   "pygments_lexer": "ipython3",
   "version": "3.10.0"
  }
 },
 "nbformat": 4,
 "nbformat_minor": 5
}
